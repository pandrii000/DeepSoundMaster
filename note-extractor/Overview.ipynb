{
 "cells": [
  {
   "cell_type": "markdown",
   "metadata": {},
   "source": [
    "# Overview"
   ]
  },
  {
   "cell_type": "code",
   "execution_count": 40,
   "metadata": {
    "ExecuteTime": {
     "end_time": "2020-06-03T17:36:31.449221Z",
     "start_time": "2020-06-03T17:36:31.445958Z"
    }
   },
   "outputs": [],
   "source": [
    "from models import convolutional_model\n",
    "from utils import readfile, extract_features, union_notes, export_to_midi\n",
    "import numpy as np\n",
    "import matplotlib.pyplot as plt"
   ]
  },
  {
   "cell_type": "code",
   "execution_count": 41,
   "metadata": {
    "ExecuteTime": {
     "end_time": "2020-06-03T17:36:31.466620Z",
     "start_time": "2020-06-03T17:36:31.450766Z"
    }
   },
   "outputs": [],
   "source": [
    "# filepath = './data/Symphony_No_5_Beethoven.mp3'\n",
    "# filepath = './data/Vremena_goda_Leto_Antonio_Vivaldi.mp3'\n",
    "filepath = './data/Oginsky_Polonaise_Farewell_of_the_Homeland.mp3'"
   ]
  },
  {
   "cell_type": "code",
   "execution_count": 42,
   "metadata": {
    "ExecuteTime": {
     "end_time": "2020-06-03T17:36:32.417719Z",
     "start_time": "2020-06-03T17:36:31.468708Z"
    }
   },
   "outputs": [
    {
     "name": "stderr",
     "output_type": "stream",
     "text": [
      "/home/pandrii000/anaconda3/lib/python3.7/site-packages/librosa/core/audio.py:161: UserWarning: PySoundFile failed. Trying audioread instead.\n",
      "  warnings.warn('PySoundFile failed. Trying audioread instead.')\n"
     ]
    }
   ],
   "source": [
    "signal = readfile(filepath)"
   ]
  },
  {
   "cell_type": "code",
   "execution_count": 43,
   "metadata": {
    "ExecuteTime": {
     "end_time": "2020-06-03T17:36:33.868470Z",
     "start_time": "2020-06-03T17:36:32.419986Z"
    }
   },
   "outputs": [],
   "source": [
    "model = convolutional_model()\n",
    "model.load_weights('./convolutional_model/weights.h5')"
   ]
  },
  {
   "cell_type": "code",
   "execution_count": 44,
   "metadata": {
    "ExecuteTime": {
     "end_time": "2020-06-03T17:36:34.259416Z",
     "start_time": "2020-06-03T17:36:33.870832Z"
    }
   },
   "outputs": [],
   "source": [
    "features = extract_features(signal)"
   ]
  },
  {
   "cell_type": "code",
   "execution_count": 45,
   "metadata": {
    "ExecuteTime": {
     "end_time": "2020-06-03T17:36:34.263340Z",
     "start_time": "2020-06-03T17:36:34.260735Z"
    }
   },
   "outputs": [],
   "source": [
    "# convolution model requires features in dimension (len(features), 512, 1)\n",
    "features = np.reshape(features, (len(features), 512, 1))"
   ]
  },
  {
   "cell_type": "code",
   "execution_count": 46,
   "metadata": {
    "ExecuteTime": {
     "end_time": "2020-06-03T17:36:35.368329Z",
     "start_time": "2020-06-03T17:36:34.264887Z"
    }
   },
   "outputs": [],
   "source": [
    "_prediction = model.predict_on_batch(features)"
   ]
  },
  {
   "cell_type": "code",
   "execution_count": 47,
   "metadata": {
    "ExecuteTime": {
     "end_time": "2020-06-03T17:36:35.373174Z",
     "start_time": "2020-06-03T17:36:35.370965Z"
    }
   },
   "outputs": [],
   "source": [
    "threshold = 0.205"
   ]
  },
  {
   "cell_type": "code",
   "execution_count": 48,
   "metadata": {
    "ExecuteTime": {
     "end_time": "2020-06-03T17:36:35.410796Z",
     "start_time": "2020-06-03T17:36:35.374959Z"
    }
   },
   "outputs": [],
   "source": [
    "prediction = _prediction.copy()\n",
    "prediction[prediction >= threshold] = 1\n",
    "prediction[prediction  < threshold] = 0"
   ]
  },
  {
   "cell_type": "code",
   "execution_count": 49,
   "metadata": {
    "ExecuteTime": {
     "end_time": "2020-06-03T17:36:35.678397Z",
     "start_time": "2020-06-03T17:36:35.412499Z"
    }
   },
   "outputs": [
    {
     "data": {
      "image/png": "[encoded data removed]",
      "text/plain": [
       "<Figure size 1152x432 with 1 Axes>"
      ]
     },
     "metadata": {
      "needs_background": "light"
     },
     "output_type": "display_data"
    }
   ],
   "source": [
    "fig = plt.figure(figsize=(16, 6))\n",
    "ax = fig.subplots(1)\n",
    "ax.imshow(prediction.transpose())\n",
    "ax.set_aspect('auto')\n",
    "ax.set_title('Model prediction with threshold {}'.format(threshold))\n",
    "ax.set_xlabel('Duration')\n",
    "ax.set_ylabel('MIDI note')\n",
    "plt.gca().invert_yaxis()"
   ]
  },
  {
   "cell_type": "code",
   "execution_count": 50,
   "metadata": {
    "ExecuteTime": {
     "end_time": "2020-06-03T17:36:35.770385Z",
     "start_time": "2020-06-03T17:36:35.680099Z"
    }
   },
   "outputs": [],
   "source": [
    "union_notes(prediction)"
   ]
  },
  {
   "cell_type": "code",
   "execution_count": 51,
   "metadata": {
    "ExecuteTime": {
     "end_time": "2020-06-03T17:36:36.037340Z",
     "start_time": "2020-06-03T17:36:35.772200Z"
    }
   },
   "outputs": [
    {
     "data": {
      "image/png": "[encoded data removed]",
      "text/plain": [
       "<Figure size 1152x432 with 1 Axes>"
      ]
     },
     "metadata": {
      "needs_background": "light"
     },
     "output_type": "display_data"
    }
   ],
   "source": [
    "fig = plt.figure(figsize=(16, 6))\n",
    "ax = fig.subplots(1)\n",
    "ax.imshow(prediction.transpose())\n",
    "ax.set_aspect('auto')\n",
    "ax.set_title('United notes'.format(threshold))\n",
    "ax.set_xlabel('Duration')\n",
    "ax.set_ylabel('MIDI note')\n",
    "plt.gca().invert_yaxis()"
   ]
  },
  {
   "cell_type": "code",
   "execution_count": 52,
   "metadata": {
    "ExecuteTime": {
     "end_time": "2020-06-03T17:36:36.108882Z",
     "start_time": "2020-06-03T17:36:36.038944Z"
    }
   },
   "outputs": [],
   "source": [
    "output_path = filepath + '.restored.midi'\n",
    "export_to_midi(prediction, output_path)"
   ]
  }
 ],
 "metadata": {
  "kernelspec": {
   "display_name": "Python 3",
   "language": "python",
   "name": "python3"
  },
  "language_info": {
   "codemirror_mode": {
    "name": "ipython",
    "version": 3
   },
   "file_extension": ".py",
   "mimetype": "text/x-python",
   "name": "python",
   "nbconvert_exporter": "python",
   "pygments_lexer": "ipython3",
   "version": "3.7.3"
  },
  "varInspector": {
   "cols": {
    "lenName": 16,
    "lenType": 16,
    "lenVar": 40
   },
   "kernels_config": {
    "python": {
     "delete_cmd_postfix": "",
     "delete_cmd_prefix": "del ",
     "library": "var_list.py",
     "varRefreshCmd": "print(var_dic_list())"
    },
    "r": {
     "delete_cmd_postfix": ") ",
     "delete_cmd_prefix": "rm(",
     "library": "var_list.r",
     "varRefreshCmd": "cat(var_dic_list()) "
    }
   },
   "types_to_exclude": [
    "module",
    "function",
    "builtin_function_or_method",
    "instance",
    "_Feature"
   ],
   "window_display": false
  }
 },
 "nbformat": 4,
 "nbformat_minor": 2
}
