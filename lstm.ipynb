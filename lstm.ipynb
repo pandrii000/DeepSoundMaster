{
 "cells": [
  {
   "cell_type": "code",
   "execution_count": 1,
   "metadata": {},
   "outputs": [
    {
     "name": "stderr",
     "output_type": "stream",
     "text": [
      "Using TensorFlow backend.\n"
     ]
    }
   ],
   "source": [
    "import glob\n",
    "import pickle\n",
    "import numpy\n",
    "from music21 import instrument, converter, note, chord\n",
    "from keras.models import Sequential\n",
    "from keras.layers import Dense, LSTM, Dropout, Activation, BatchNormalization \n",
    "from keras.callbacks import ModelCheckpoint\n",
    "from keras.utils import np_utils"
   ]
  },
  {
   "cell_type": "code",
   "execution_count": 2,
   "metadata": {},
   "outputs": [],
   "source": [
    "def GetNotes(midiPath):\n",
    "    notes = []\n",
    "    for file in glob.glob(midiPath):\n",
    "        midiData = converter.parse(file)\n",
    "        print(\"Parsing \", file, end=\"... \")\n",
    "        rawNotes = None\n",
    "        try:\n",
    "            rawNotes = instrument.partitionByInstrument(midiData).parts[0].recurse() \n",
    "        except:\n",
    "            rawNotes = midi.flat.notes\n",
    "        for element in rawNotes:\n",
    "            if type(element) == chord.Chord:\n",
    "                notes.append('.'.join(str(n) for n in element.normalOrder))\n",
    "            elif type(element) == note.Note:\n",
    "                notes.append(str(element.pitch))\n",
    "        print(\"Done.\")    \n",
    "    return notes"
   ]
  },
  {
   "cell_type": "code",
   "execution_count": 3,
   "metadata": {},
   "outputs": [],
   "source": [
    "def PrepTrainDatas(notes, notesTypesCount, seqLen = 100):\n",
    "    \n",
    "    notesNum = dict((note, number) for number, note in enumerate(sorted(set(item for item in notes))))\n",
    "\n",
    "    nInput = []\n",
    "    nOutput = []\n",
    "\n",
    "    for i in range(len(notes) - seqLen):\n",
    "        nInput.append([notesNum[n] for n in notes[i:i + seqLen]])\n",
    "        nOutput.append(notesNum[notes[i + seqLen]])\n",
    "    nInput = numpy.reshape(nInput, (len(nInput), seqLen, 1))\n",
    "    nInput = nInput / notesTypesCount\n",
    "    nOutput = np_utils.to_categorical(nOutput)\n",
    "\n",
    "    return nInput, nOutput\n"
   ]
  },
  {
   "cell_type": "code",
   "execution_count": 4,
   "metadata": {},
   "outputs": [],
   "source": [
    "def Network(nInput, notesTypesCount):\n",
    "    model = Sequential()\n",
    "    model.add(LSTM(300, input_shape=(nInput.shape[1], nInput.shape[2]),\n",
    "        recurrent_dropout=0.3, return_sequences=True))\n",
    "    model.add(LSTM(300, return_sequences=True, recurrent_dropout=0.3,))\n",
    "    model.add(LSTM(300))\n",
    "    model.add(BatchNormalization())\n",
    "    model.add(Dropout(0.3))\n",
    "    model.add(Dense(100))\n",
    "    model.add(Activation('relu'))\n",
    "    model.add(BatchNormalization())\n",
    "    model.add(Dropout(0.3))\n",
    "    model.add(Dense(notesTypesCount))\n",
    "    model.add(Activation('softmax'))\n",
    "    model.compile(loss='categorical_crossentropy', optimizer='rmsprop')\n",
    "\n",
    "    return model"
   ]
  },
  {
   "cell_type": "code",
   "execution_count": 5,
   "metadata": {},
   "outputs": [],
   "source": [
    "#from IPython.display import SVG\n",
    "#from keras.utils import model_to_dot\n",
    "\n",
    "#model = Network()\n",
    "#SVG(model_to_dot(model).create(prog='dot', format='svg'))"
   ]
  },
  {
   "cell_type": "code",
   "execution_count": 6,
   "metadata": {},
   "outputs": [],
   "source": [
    "def Train(midiPath, epos, bsize):\n",
    "    notes = GetNotes(midiPath)\n",
    "    notesTypesCount = len(set(notes))\n",
    "\n",
    "    (nInput, nOutput) = PrepTrainDatas(notes, notesTypesCount)\n",
    "\n",
    "    model = Network(nInput, notesTypesCount)\n",
    "    \n",
    "    filepath = \"w.hdf5\"\n",
    "    checkpoint = ModelCheckpoint(filepath, monitor='loss', verbose=0,\n",
    "        save_best_only=True, mode='min')\n",
    "    callbacksList = [checkpoint]\n",
    "\n",
    "    model.fit(nInput, nOutput, epochs=epos, batch_size=bsize, callbacks=callbacksList)"
   ]
  },
  {
   "cell_type": "code",
   "execution_count": 7,
   "metadata": {},
   "outputs": [
    {
     "name": "stdout",
     "output_type": "stream",
     "text": [
      "Parsing  sus/ff4pclov.mid...Done.\n",
      "Parsing  sus/Oppressed.mid...Done.\n",
      "Parsing  sus/ff11_awakening_piano.mid...Done.\n",
      "Parsing  sus/great_war.mid...Done.\n",
      "Parsing  sus/OTD5YA.mid...Done.\n",
      "Parsing  sus/Ff4-BattleLust.mid...Done.\n",
      "Parsing  sus/Final_Fantasy_Matouyas_Cave_Piano.mid...Done.\n",
      "Parsing  sus/ff4-town.mid...Done.\n",
      "Parsing  sus/balamb.mid...Done.\n",
      "Parsing  sus/Rydia_pc.mid...Done.\n",
      "Parsing  sus/Eternal_Harvest.mid...Done.\n",
      "Parsing  sus/sobf.mid...Done.\n",
      "Parsing  sus/BlueStone_LastDungeon.mid...Done.\n",
      "Parsing  sus/lurk_in_dark.mid...Done.\n",
      "Parsing  sus/In_Zanarkand.mid...Done.\n",
      "Parsing  sus/bcm.mid...Done.\n",
      "Parsing  sus/FF4.mid...Done.\n",
      "Parsing  sus/ViviinAlexandria.mid...Done.\n",
      "Parsing  sus/Ff7-Cinco.mid...Done.\n",
      "Parsing  sus/ff1battp.mid...Done.\n",
      "Parsing  sus/Fyw_piano.mid...Done.\n",
      "Parsing  sus/ff4-airship.mid...Done.\n",
      "Parsing  sus/costadsol.mid...Done.\n",
      "Parsing  sus/dontbeafraid.mid...Done.\n",
      "Parsing  sus/ultros.mid...Done.\n",
      "Parsing  sus/ff7themep.mid...Done.\n",
      "Parsing  sus/pkelite4.mid...Done.\n",
      "Parsing  sus/waltz_de_choco.mid...Done.\n",
      "Parsing  sus/VincentPiano.mid...Done.\n",
      "Parsing  sus/0fithos.mid...Done.\n",
      "Parsing  sus/Ff7-Jenova_Absolute.mid...Done.\n",
      "Parsing  sus/Fierce_Battle_(Piano).mid...Done.\n",
      "Parsing  sus/mining.mid...Done.\n",
      "Parsing  sus/roseofmay-piano.mid...Done.\n",
      "Parsing  sus/Ff7-One_Winged.mid...Done.\n",
      "Parsing  sus/HighwindTakestotheSkies.mid...Done.\n",
      "Parsing  sus/traitor.mid...Done.\n",
      "Parsing  sus/8.mid...Done.\n",
      "Parsing  sus/Zelda_Overworld.mid...Done.\n",
      "Parsing  sus/Finalfantasy6fanfarecomplete.mid...Done.\n",
      "Parsing  sus/FFVII_BATTLE.mid...Done.\n",
      "Parsing  sus/cosmo.mid...Done.\n",
      "Parsing  sus/figaro.mid...Done.\n",
      "Parsing  sus/Fiend_Battle_(Piano).mid...Done.\n",
      "Parsing  sus/FF8_Shuffle_or_boogie_pc.mid...Done.\n",
      "Parsing  sus/JENOVA.mid...Done.\n",
      "Parsing  sus/ff8-lfp.mid...Done.\n",
      "Parsing  sus/sandy.mid...Done.\n",
      "Parsing  sus/ff4-fight1.mid...Done.\n",
      "Parsing  sus/Life_Stream.mid...Done.\n",
      "Parsing  sus/fortresscondor.mid...Done.\n",
      "Parsing  sus/electric_de_chocobo.mid...Done.\n",
      "Parsing  sus/DOS.mid...Done.\n",
      "Parsing  sus/sera_.mid...Done.\n",
      "Parsing  sus/tifap.mid...Done.\n",
      "Parsing  sus/Gold_Silver_Rival_Battle.mid...Done.\n",
      "Parsing  sus/relmstheme-piano.mid...Done.\n",
      "Parsing  sus/Still_Alive-1.mid...Done.\n",
      "Parsing  sus/redwings.mid...Done.\n",
      "Parsing  sus/EyesOnMePiano.mid...Done.\n",
      "Parsing  sus/dayafter.mid...Done.\n",
      "Parsing  sus/gerudo.mid...Done.\n",
      "Parsing  sus/Suteki_Da_Ne_(Piano_Version).mid...Done.\n",
      "Parsing  sus/AT.mid...Done.\n",
      "Parsing  sus/caitsith.mid...Done.\n",
      "Parsing  sus/ff4_piano_collections-main_theme.mid...Done.\n",
      "Parsing  sus/Kingdom_Hearts_Traverse_Town.mid...Done.\n",
      "Parsing  sus/FFIXQuMarshP.mid...Done.\n",
      "Parsing  sus/FF6epitaph_piano.mid...Done.\n",
      "Parsing  sus/FFIX_Piano.mid...Done.\n",
      "Parsing  sus/Finalfantasy5gilgameshp.mid...Done.\n",
      "Parsing  sus/FF3_Battle_(Piano).mid...Done.\n",
      "Parsing  sus/thoughts.mid...Done.\n",
      "Parsing  sus/rufus.mid...Done.\n",
      "Parsing  sus/ahead_on_our_way_piano.mid...Done.\n",
      "Parsing  sus/decisive.mid...Done.\n",
      "Parsing  sus/thenightmarebegins.mid...Done.\n",
      "Parsing  sus/path_of_repentance.mid...Done.\n",
      "Parsing  sus/FF3_Third_Phase_Final_(Piano).mid...Done.\n",
      "Parsing  sus/FFX_-_Ending_Theme_(Piano_Version)_-_by_Angel_FF.mid...Done.\n",
      "Parsing  sus/ff7-mainmidi.mid...Done.\n",
      "Parsing  sus/Kingdom_Hearts_Dearly_Beloved.mid...Done.\n",
      "Parsing  sus/braska.mid...Done.\n",
      "Parsing  sus/Cids.mid...Done.\n",
      "Parsing  sus/goldsaucer.mid...Done.\n",
      "Parsing  sus/ultimafro.mid...Done.\n",
      "Parsing  sus/tpirtsd-piano.mid...Done.\n",
      "Parsing  sus/ff6shap.mid...Done.\n",
      "Parsing  sus/Final_Fantasy_7_-_Judgement_Day_Piano.mid...Done.\n",
      "Parsing  sus/FFIII_Edgar_And_Sabin_Piano.mid...Done.\n",
      "Parsing  sus/Rachel_Piano_tempofix.mid...Done.\n",
      "Parsing  sus/z_aeristhemepiano.mid...Done.\n",
      "WARNING:tensorflow:From /home/fantaziskee/anaconda3/envs/jupyter/lib/python3.7/site-packages/tensorflow/python/ops/resource_variable_ops.py:435: colocate_with (from tensorflow.python.framework.ops) is deprecated and will be removed in a future version.\n",
      "Instructions for updating:\n",
      "Colocations handled automatically by placer.\n",
      "WARNING:tensorflow:From /home/fantaziskee/anaconda3/envs/jupyter/lib/python3.7/site-packages/tensorflow/python/ops/math_ops.py:3066: to_int32 (from tensorflow.python.ops.math_ops) is deprecated and will be removed in a future version.\n",
      "Instructions for updating:\n",
      "Use tf.cast instead.\n",
      "Epoch 1/150\n",
      " 1350/57077 [..............................] - ETA: 15:39 - loss: 6.0996"
     ]
    },
    {
     "ename": "KeyboardInterrupt",
     "evalue": "",
     "output_type": "error",
     "traceback": [
      "\u001b[0;31m---------------------------------------------------------------------------\u001b[0m",
      "\u001b[0;31mKeyboardInterrupt\u001b[0m                         Traceback (most recent call last)",
      "\u001b[0;32m<ipython-input-7-c2bd5824af79>\u001b[0m in \u001b[0;36m<module>\u001b[0;34m\u001b[0m\n\u001b[0;32m----> 1\u001b[0;31m \u001b[0mTrain\u001b[0m\u001b[0;34m(\u001b[0m\u001b[0;34m\"sus/*.mid\"\u001b[0m\u001b[0;34m,\u001b[0m \u001b[0;36m150\u001b[0m\u001b[0;34m,\u001b[0m \u001b[0;36m150\u001b[0m\u001b[0;34m)\u001b[0m\u001b[0;34m\u001b[0m\u001b[0;34m\u001b[0m\u001b[0m\n\u001b[0m",
      "\u001b[0;32m<ipython-input-6-478a6a4a5a96>\u001b[0m in \u001b[0;36mTrain\u001b[0;34m(midiPath, epos, bsize)\u001b[0m\n\u001b[1;32m     12\u001b[0m     \u001b[0mcallbacksList\u001b[0m \u001b[0;34m=\u001b[0m \u001b[0;34m[\u001b[0m\u001b[0mcheckpoint\u001b[0m\u001b[0;34m]\u001b[0m\u001b[0;34m\u001b[0m\u001b[0;34m\u001b[0m\u001b[0m\n\u001b[1;32m     13\u001b[0m \u001b[0;34m\u001b[0m\u001b[0m\n\u001b[0;32m---> 14\u001b[0;31m     \u001b[0mmodel\u001b[0m\u001b[0;34m.\u001b[0m\u001b[0mfit\u001b[0m\u001b[0;34m(\u001b[0m\u001b[0mnInput\u001b[0m\u001b[0;34m,\u001b[0m \u001b[0mnOutput\u001b[0m\u001b[0;34m,\u001b[0m \u001b[0mepochs\u001b[0m\u001b[0;34m=\u001b[0m\u001b[0mepos\u001b[0m\u001b[0;34m,\u001b[0m \u001b[0mbatch_size\u001b[0m\u001b[0;34m=\u001b[0m\u001b[0mbsize\u001b[0m\u001b[0;34m,\u001b[0m \u001b[0mcallbacks\u001b[0m\u001b[0;34m=\u001b[0m\u001b[0mcallbacksList\u001b[0m\u001b[0;34m)\u001b[0m\u001b[0;34m\u001b[0m\u001b[0;34m\u001b[0m\u001b[0m\n\u001b[0m",
      "\u001b[0;32m~/anaconda3/envs/jupyter/lib/python3.7/site-packages/keras/engine/training.py\u001b[0m in \u001b[0;36mfit\u001b[0;34m(self, x, y, batch_size, epochs, verbose, callbacks, validation_split, validation_data, shuffle, class_weight, sample_weight, initial_epoch, steps_per_epoch, validation_steps, validation_freq, max_queue_size, workers, use_multiprocessing, **kwargs)\u001b[0m\n\u001b[1;32m   1237\u001b[0m                                         \u001b[0msteps_per_epoch\u001b[0m\u001b[0;34m=\u001b[0m\u001b[0msteps_per_epoch\u001b[0m\u001b[0;34m,\u001b[0m\u001b[0;34m\u001b[0m\u001b[0;34m\u001b[0m\u001b[0m\n\u001b[1;32m   1238\u001b[0m                                         \u001b[0mvalidation_steps\u001b[0m\u001b[0;34m=\u001b[0m\u001b[0mvalidation_steps\u001b[0m\u001b[0;34m,\u001b[0m\u001b[0;34m\u001b[0m\u001b[0;34m\u001b[0m\u001b[0m\n\u001b[0;32m-> 1239\u001b[0;31m                                         validation_freq=validation_freq)\n\u001b[0m\u001b[1;32m   1240\u001b[0m \u001b[0;34m\u001b[0m\u001b[0m\n\u001b[1;32m   1241\u001b[0m     def evaluate(self,\n",
      "\u001b[0;32m~/anaconda3/envs/jupyter/lib/python3.7/site-packages/keras/engine/training_arrays.py\u001b[0m in \u001b[0;36mfit_loop\u001b[0;34m(model, fit_function, fit_inputs, out_labels, batch_size, epochs, verbose, callbacks, val_function, val_inputs, shuffle, initial_epoch, steps_per_epoch, validation_steps, validation_freq)\u001b[0m\n\u001b[1;32m    194\u001b[0m                     \u001b[0mins_batch\u001b[0m\u001b[0;34m[\u001b[0m\u001b[0mi\u001b[0m\u001b[0;34m]\u001b[0m \u001b[0;34m=\u001b[0m \u001b[0mins_batch\u001b[0m\u001b[0;34m[\u001b[0m\u001b[0mi\u001b[0m\u001b[0;34m]\u001b[0m\u001b[0;34m.\u001b[0m\u001b[0mtoarray\u001b[0m\u001b[0;34m(\u001b[0m\u001b[0;34m)\u001b[0m\u001b[0;34m\u001b[0m\u001b[0;34m\u001b[0m\u001b[0m\n\u001b[1;32m    195\u001b[0m \u001b[0;34m\u001b[0m\u001b[0m\n\u001b[0;32m--> 196\u001b[0;31m                 \u001b[0mouts\u001b[0m \u001b[0;34m=\u001b[0m \u001b[0mfit_function\u001b[0m\u001b[0;34m(\u001b[0m\u001b[0mins_batch\u001b[0m\u001b[0;34m)\u001b[0m\u001b[0;34m\u001b[0m\u001b[0;34m\u001b[0m\u001b[0m\n\u001b[0m\u001b[1;32m    197\u001b[0m                 \u001b[0mouts\u001b[0m \u001b[0;34m=\u001b[0m \u001b[0mto_list\u001b[0m\u001b[0;34m(\u001b[0m\u001b[0mouts\u001b[0m\u001b[0;34m)\u001b[0m\u001b[0;34m\u001b[0m\u001b[0;34m\u001b[0m\u001b[0m\n\u001b[1;32m    198\u001b[0m                 \u001b[0;32mfor\u001b[0m \u001b[0ml\u001b[0m\u001b[0;34m,\u001b[0m \u001b[0mo\u001b[0m \u001b[0;32min\u001b[0m \u001b[0mzip\u001b[0m\u001b[0;34m(\u001b[0m\u001b[0mout_labels\u001b[0m\u001b[0;34m,\u001b[0m \u001b[0mouts\u001b[0m\u001b[0;34m)\u001b[0m\u001b[0;34m:\u001b[0m\u001b[0;34m\u001b[0m\u001b[0;34m\u001b[0m\u001b[0m\n",
      "\u001b[0;32m~/anaconda3/envs/jupyter/lib/python3.7/site-packages/tensorflow/python/keras/backend.py\u001b[0m in \u001b[0;36m__call__\u001b[0;34m(self, inputs)\u001b[0m\n\u001b[1;32m   3074\u001b[0m \u001b[0;34m\u001b[0m\u001b[0m\n\u001b[1;32m   3075\u001b[0m     fetched = self._callable_fn(*array_vals,\n\u001b[0;32m-> 3076\u001b[0;31m                                 run_metadata=self.run_metadata)\n\u001b[0m\u001b[1;32m   3077\u001b[0m     \u001b[0mself\u001b[0m\u001b[0;34m.\u001b[0m\u001b[0m_call_fetch_callbacks\u001b[0m\u001b[0;34m(\u001b[0m\u001b[0mfetched\u001b[0m\u001b[0;34m[\u001b[0m\u001b[0;34m-\u001b[0m\u001b[0mlen\u001b[0m\u001b[0;34m(\u001b[0m\u001b[0mself\u001b[0m\u001b[0;34m.\u001b[0m\u001b[0m_fetches\u001b[0m\u001b[0;34m)\u001b[0m\u001b[0;34m:\u001b[0m\u001b[0;34m]\u001b[0m\u001b[0;34m)\u001b[0m\u001b[0;34m\u001b[0m\u001b[0;34m\u001b[0m\u001b[0m\n\u001b[1;32m   3078\u001b[0m     return nest.pack_sequence_as(self._outputs_structure,\n",
      "\u001b[0;32m~/anaconda3/envs/jupyter/lib/python3.7/site-packages/tensorflow/python/client/session.py\u001b[0m in \u001b[0;36m__call__\u001b[0;34m(self, *args, **kwargs)\u001b[0m\n\u001b[1;32m   1437\u001b[0m           ret = tf_session.TF_SessionRunCallable(\n\u001b[1;32m   1438\u001b[0m               \u001b[0mself\u001b[0m\u001b[0;34m.\u001b[0m\u001b[0m_session\u001b[0m\u001b[0;34m.\u001b[0m\u001b[0m_session\u001b[0m\u001b[0;34m,\u001b[0m \u001b[0mself\u001b[0m\u001b[0;34m.\u001b[0m\u001b[0m_handle\u001b[0m\u001b[0;34m,\u001b[0m \u001b[0margs\u001b[0m\u001b[0;34m,\u001b[0m \u001b[0mstatus\u001b[0m\u001b[0;34m,\u001b[0m\u001b[0;34m\u001b[0m\u001b[0;34m\u001b[0m\u001b[0m\n\u001b[0;32m-> 1439\u001b[0;31m               run_metadata_ptr)\n\u001b[0m\u001b[1;32m   1440\u001b[0m         \u001b[0;32mif\u001b[0m \u001b[0mrun_metadata\u001b[0m\u001b[0;34m:\u001b[0m\u001b[0;34m\u001b[0m\u001b[0;34m\u001b[0m\u001b[0m\n\u001b[1;32m   1441\u001b[0m           \u001b[0mproto_data\u001b[0m \u001b[0;34m=\u001b[0m \u001b[0mtf_session\u001b[0m\u001b[0;34m.\u001b[0m\u001b[0mTF_GetBuffer\u001b[0m\u001b[0;34m(\u001b[0m\u001b[0mrun_metadata_ptr\u001b[0m\u001b[0;34m)\u001b[0m\u001b[0;34m\u001b[0m\u001b[0;34m\u001b[0m\u001b[0m\n",
      "\u001b[0;31mKeyboardInterrupt\u001b[0m: "
     ]
    }
   ],
   "source": [
    "Train(\"sus/*.mid\", 150, 150)"
   ]
  },
  {
   "cell_type": "code",
   "execution_count": null,
   "metadata": {},
   "outputs": [],
   "source": []
  }
 ],
 "metadata": {
  "kernelspec": {
   "display_name": "Python 3",
   "language": "python",
   "name": "python3"
  },
  "language_info": {
   "codemirror_mode": {
    "name": "ipython",
    "version": 3
   },
   "file_extension": ".py",
   "mimetype": "text/x-python",
   "name": "python",
   "nbconvert_exporter": "python",
   "pygments_lexer": "ipython3",
   "version": "3.7.4"
  }
 },
 "nbformat": 4,
 "nbformat_minor": 2
}
