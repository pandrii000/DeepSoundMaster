{
 "cells": [
  {
   "cell_type": "code",
   "execution_count": 1,
   "metadata": {},
   "outputs": [
    {
     "name": "stderr",
     "output_type": "stream",
     "text": [
      "Using TensorFlow backend.\n"
     ]
    }
   ],
   "source": [
    "import glob\n",
    "import pickle\n",
    "import numpy\n",
    "from music21 import instrument, converter, note, chord\n",
    "from keras.models import Sequential\n",
    "from keras.layers import Dense, LSTM, Dropout, Activation, BatchNormalization \n",
    "from keras.callbacks import ModelCheckpoint\n",
    "from keras.utils import np_utils"
   ]
  },
  {
   "cell_type": "code",
   "execution_count": 2,
   "metadata": {},
   "outputs": [],
   "source": [
    "def GetNotes(midiPath):\n",
    "    notes = []\n",
    "    for file in glob.glob(midiPath):\n",
    "        midiData = converter.parse(file)\n",
    "        print(\"Parsing \", file, end=\"... \")\n",
    "        rawNotes = None\n",
    "        try:\n",
    "            rawNotes = instrument.partitionByInstrument(midiData).parts[0].recurse() \n",
    "        except:\n",
    "            rawNotes = midi.flat.notes\n",
    "        for element in rawNotes:\n",
    "            if type(element) == chord.Chord:\n",
    "                notes.append('.'.join(str(n) for n in element.normalOrder))\n",
    "            elif type(element) == note.Note:\n",
    "                notes.append(str(element.pitch))\n",
    "        print(\"Done.\")    \n",
    "    return notes"
   ]
  },
  {
   "cell_type": "code",
   "execution_count": 3,
   "metadata": {},
   "outputs": [],
   "source": [
    "def PrepTrainDatas(notes, notesTypesCount, seqLen = 100):\n",
    "    \n",
    "    notesNum = dict((note, number) for number, note in enumerate(sorted(set(item for item in notes))))\n",
    "\n",
    "    nInput = []\n",
    "    nOutput = []\n",
    "\n",
    "    for i in range(len(notes) - seqLen):\n",
    "        nInput.append([notesNum[n] for n in notes[i:i + seqLen]])\n",
    "        nOutput.append(notesNum[notes[i + seqLen]])\n",
    "    nInput = numpy.reshape(nInput, (len(nInput), seqLen, 1))\n",
    "    nInput = nInput / notesTypesCount\n",
    "    nOutput = np_utils.to_categorical(nOutput)\n",
    "\n",
    "    return nInput, nOutput\n"
   ]
  },
  {
   "cell_type": "code",
   "execution_count": 4,
   "metadata": {},
   "outputs": [],
   "source": [
    "def Network(nInput, notesTypesCount):\n",
    "    model = Sequential()\n",
    "    model.add(LSTM(300, input_shape=(nInput.shape[1], nInput.shape[2]),\n",
    "        recurrent_dropout=0.3, return_sequences=True))\n",
    "    model.add(LSTM(300, return_sequences=True, recurrent_dropout=0.3,))\n",
    "    model.add(LSTM(300))\n",
    "    model.add(BatchNormalization())\n",
    "    model.add(Dropout(0.3))\n",
    "    model.add(Dense(100))\n",
    "    model.add(Activation('relu'))\n",
    "    model.add(BatchNormalization())\n",
    "    model.add(Dropout(0.3))\n",
    "    model.add(Dense(notesTypesCount))\n",
    "    model.add(Activation('softmax'))\n",
    "    model.compile(loss='categorical_crossentropy', optimizer='rmsprop')\n",
    "\n",
    "    return model"
   ]
  },
  {
   "cell_type": "code",
   "execution_count": 6,
   "metadata": {},
   "outputs": [],
   "source": [
    "def Train(midiPath, epos, bsize):\n",
    "    notes = GetNotes(midiPath)\n",
    "    notesTypesCount = len(set(notes))\n",
    "\n",
    "    (nInput, nOutput) = PrepTrainDatas(notes, notesTypesCount)\n",
    "\n",
    "    model = Network(nInput, notesTypesCount)\n",
    "    \n",
    "    filepath = \"w.hdf5\"\n",
    "    checkpoint = ModelCheckpoint(filepath, monitor='loss', verbose=0,\n",
    "        save_best_only=True, mode='min')\n",
    "    callbacksList = [checkpoint]\n",
    "\n",
    "    model.fit(nInput, nOutput, epochs=epos, batch_size=bsize, callbacks=callbacksList)"
   ]
  },
  {
   "cell_type": "code",
   "execution_count": null,
   "metadata": {},
   "outputs": [],
   "source": [
    "Train(\"sus/*.mid\", 150, 150)"
   ]
  }
 ],
 "metadata": {
  "kernelspec": {
   "display_name": "Python 3",
   "language": "python",
   "name": "python3"
  },
  "language_info": {
   "codemirror_mode": {
    "name": "ipython",
    "version": 3
   },
   "file_extension": ".py",
   "mimetype": "text/x-python",
   "name": "python",
   "nbconvert_exporter": "python",
   "pygments_lexer": "ipython3",
   "version": "3.8.0"
  }
 },
 "nbformat": 4,
 "nbformat_minor": 2
}
